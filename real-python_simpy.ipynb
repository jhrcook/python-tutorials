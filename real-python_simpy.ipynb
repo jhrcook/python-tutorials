{
 "cells": [
  {
   "cell_type": "markdown",
   "metadata": {},
   "source": [
    "# *Real Python* - \"SimPy: Simulating Real-World Processes With Python\"\n",
    "\n",
    "Joshua Cook\n",
    "\n",
    "2020-04-07\n",
    "\n",
    "This notebook is for my notes on the *Real Python* article on [SimPy](https://simpy.readthedocs.io/en/latest/): [\"SimPy: Simulating Real-World Processes With Python\"](https://realpython.com/simpy-simulating-with-python/).\n",
    "\n",
    "![SimPy-Tutorial_Watermarked.75f57eed489c.jpg](assets/SimPy-Tutorial_Watermarked.75f57eed489c.jpg)"
   ]
  },
  {
   "cell_type": "markdown",
   "metadata": {},
   "source": [
    "## How simulation works\n",
    "\n",
    "There are three steps to running a simulation:\n",
    "\n",
    "1. **Establish** the simulation environment.\n",
    "2. **Pass** in the parameters.\n",
    "3. **Run** the simulation."
   ]
  },
  {
   "cell_type": "markdown",
   "metadata": {},
   "source": [
    "## How to simulate with the `simpy` package\n",
    "\n",
    "### The process the model\n",
    "\n",
    "Our example will be focused around helping a movie theater reduce their wait times.\n",
    "The *average wait time*, the time from the movie goer arrives to when their butt is in a seat.\n",
    "The goal is to figure out the optimal number of employees to get this number below 10 minutes.\n",
    "\n",
    "### Brainstorming the simulation algorithm\n",
    "\n",
    "It is important to first think about how this process works in real life.\n",
    "Here are the steps a movie goer might take:\n",
    "\n",
    "1. Arrive at the theater, get in line, and wait to purchase a ticket.\n",
    "2. Buy a ticket.\n",
    "3. Wait in line to have the ticket checked.\n",
    "4. Get the ticket checked by an usher.\n",
    "5. Choose whether or not to get in line for the concession stand:\n",
    "    - If they get in line, then they purchase food.\n",
    "    - If they don't get in line, then they skip to the last step.\n",
    "6. Go find their seat.\n",
    "\n",
    "There are parts of this process that we can control (e.g. the number of cashiers at the box-office) and some that we can't (e.g. when people arrive).\n",
    "For the processes that we cannot control, we have to pick parameters based the available data.\n",
    "\n",
    "### Setting up the environment\n",
    "\n",
    "We will first import the necessary libraries."
   ]
  },
  {
   "cell_type": "code",
   "execution_count": 1,
   "metadata": {},
   "outputs": [],
   "source": [
    "import simpy\n",
    "import random\n",
    "import statistics"
   ]
  },
  {
   "cell_type": "markdown",
   "metadata": {},
   "source": [
    "We will also need a list to hold the wait times of the simulation."
   ]
  },
  {
   "cell_type": "code",
   "execution_count": 2,
   "metadata": {},
   "outputs": [],
   "source": [
    "wait_times = []"
   ]
  },
  {
   "cell_type": "markdown",
   "metadata": {},
   "source": [
    "### Creating the environment: class definition\n",
    "\n",
    "We will create a `Theater` class to be our environment."
   ]
  },
  {
   "cell_type": "code",
   "execution_count": 3,
   "metadata": {},
   "outputs": [],
   "source": [
    "class Theater(object):\n",
    "    def __init__(self, env, num_cashiers, num_ushers, num_servers):\n",
    "        self.env = env\n",
    "        self.cashier = simpy.Resource(env, num_cashiers)\n",
    "        self.usher = simpy.Resource(env, num_ushers)\n",
    "        self.server = simpy.Resource(env, num_servers)\n",
    "        \n",
    "    \n",
    "    def purchase_ticket(self, moviegoer):\n",
    "        \"\"\"Takes between 1 and 2 minutes to purchase a movie ticket.\"\"\"\n",
    "        yield self.env.timeout(random.randint(1, 3))\n",
    "        \n",
    "    def check_ticket(self, moviegoer):\n",
    "        yield self.env.timeout(3.0/60.0)\n",
    "    \n",
    "    def sell_food(self, moviegoer):\n",
    "        yield self.env.timeout(random.randint(1, 5))"
   ]
  },
  {
   "cell_type": "markdown",
   "metadata": {},
   "source": [
    "### Moving through the environement: function definition\n",
    "\n",
    "When a moviegoer arrives at the movies, they will request a resource, wait for the process the complete, then leave.\n",
    "The function `go_to_movies()` will keep track of this.\n",
    "Each movie goer buys a ticket and has the ticket checked.\n",
    "They then have the option (modeled here as a 50/50 chance) to buy food.\n",
    "There is a similar pattern for each resource *request*."
   ]
  },
  {
   "cell_type": "code",
   "execution_count": 4,
   "metadata": {},
   "outputs": [],
   "source": [
    "def go_to_movies(env, moviegoer, theater):\n",
    "    # Arrive at the theatre.\n",
    "    arrival_time = env.now\n",
    "    \n",
    "    # Purchase a ticket.\n",
    "    with theater.cashier.request() as request:\n",
    "        yield request\n",
    "        yield env.process(theater.purchase_ticket(moviegoer))\n",
    "    \n",
    "    # Check the ticket.\n",
    "    with theater.usher.request() as request:\n",
    "        yield request\n",
    "        yield env.process(theater.check_ticket(moviegoer))\n",
    "    \n",
    "    # Maybe get some food.\n",
    "    if random.choice([True, False]):\n",
    "        with theater.server.request() as request:\n",
    "            yield request\n",
    "            yield env.process(theater.sell_food(moviegoer))\n",
    "    \n",
    "    # Head into the theatre.\n",
    "    wait_times.append(env.now - arrival_time)"
   ]
  },
  {
   "cell_type": "markdown",
   "metadata": {},
   "source": [
    "### Making things happen: function definition\n",
    "\n",
    "Finally, we can define a function to run the simulation, `run_theater()`.\n",
    "It will create an instance of a theater and generate moviegoers until the simulation stops.\n",
    "\n",
    "In this model, there will be three moviegoers waiting in line before the box office opens, and then new moviegoers will arrive every 12 seconds."
   ]
  },
  {
   "cell_type": "code",
   "execution_count": 5,
   "metadata": {},
   "outputs": [],
   "source": [
    "def run_theater(env, num_cashiers, num_servers, num_ushers):\n",
    "    \n",
    "    # Create the theater.\n",
    "    theater = Theater(env, num_cashiers, num_servers, num_ushers)\n",
    "    \n",
    "    # Three moviegoers waiting in line before the box office opens.\n",
    "    for moviegoer in range(3):\n",
    "        env.process(go_to_movies(env, moviegoer, theater))\n",
    "    \n",
    "    while True:\n",
    "        # Customers arrive every 12 sec, on average.\n",
    "        yield env.timeout(12.0 / 60.0)\n",
    "        \n",
    "        moviegoer += 1\n",
    "        env.process(go_to_movies(env, moviegoer, theater))"
   ]
  },
  {
   "cell_type": "markdown",
   "metadata": {},
   "source": [
    "### Calculating the wait time: function definition\n",
    "\n",
    "Now we need to calculate the average time a moviegoer spends from the time they arrive to the time they sit down for their movie."
   ]
  },
  {
   "cell_type": "code",
   "execution_count": 6,
   "metadata": {},
   "outputs": [],
   "source": [
    "def get_average_wait_time(wait_times):\n",
    "    return statistics.mean(wait_times)"
   ]
  },
  {
   "cell_type": "markdown",
   "metadata": {},
   "source": [
    "We also can make a function for printing the average wait time in a more reader-friendly way."
   ]
  },
  {
   "cell_type": "code",
   "execution_count": 7,
   "metadata": {},
   "outputs": [],
   "source": [
    "def calculate_wait_time(wait_times):\n",
    "    average_wait = get_average_wait_time(wait_times)\n",
    "    minutes, frac_minutes = divmod(average_wait, 1)\n",
    "    seconds = frac_minutes * 60\n",
    "    return round(minutes), round(seconds)"
   ]
  },
  {
   "cell_type": "markdown",
   "metadata": {},
   "source": [
    "### Choosing parameters: user input function definition\n",
    "\n",
    "This simulation has the following parameters: `num_cashiers`, `num_servers`, and `num_ushers`.\n",
    "The `get_user_input()` function helps us get values for these parameters from the user."
   ]
  },
  {
   "cell_type": "code",
   "execution_count": 8,
   "metadata": {},
   "outputs": [],
   "source": [
    "def get_user_input():\n",
    "    num_cashiers = input(\"# of cashiers: \")\n",
    "    num_servers = input(\"# of servers: \")\n",
    "    num_ushers = input(\"# of ushers: \")\n",
    "    \n",
    "    params = [num_cashiers, num_servers, num_ushers]\n",
    "    if all(str(i).isdigit() for i in params):\n",
    "        params = [int(x) for x in params]\n",
    "    else: \n",
    "        print(\n",
    "            \"Could not parse input. The simulation will use default values:\",\n",
    "            \"\\n1 cashier, 1 server, 1 usher.\"\n",
    "        )\n",
    "        params = [1, 1, 1]\n",
    "    return params"
   ]
  },
  {
   "cell_type": "markdown",
   "metadata": {},
   "source": [
    "### Finalizing the setup: main function definition\n",
    "\n",
    "We just need to create a main function that will ensure the functions written above are executed in the correct order."
   ]
  },
  {
   "cell_type": "code",
   "execution_count": 9,
   "metadata": {},
   "outputs": [],
   "source": [
    "def main():\n",
    "    # Setup.\n",
    "    random.seed(0)\n",
    "    num_cashiers, num_servers, num_ushers = get_user_input()\n",
    "    \n",
    "    # Run the simulation.\n",
    "    print(\"Running simulation...\")\n",
    "    env = simpy.Environment()\n",
    "    env.process(run_theater(env, num_cashiers, num_servers, num_ushers))\n",
    "    env.run(until=90)\n",
    "    \n",
    "    # View the results.\n",
    "    mins, secs = calculate_wait_time(wait_times)\n",
    "    print(f\"The average wait time is {mins} min. and {secs} sec.\")"
   ]
  },
  {
   "cell_type": "markdown",
   "metadata": {},
   "source": [
    "We can now call the `main()` function to run a simulation."
   ]
  },
  {
   "cell_type": "code",
   "execution_count": 10,
   "metadata": {
    "scrolled": false
   },
   "outputs": [
    {
     "name": "stdout",
     "output_type": "stream",
     "text": [
      "# of cashiers: 10\n",
      "# of servers: 10\n",
      "# of ushers: 5\n",
      "Running simulation...\n",
      "The average wait time is 8 min. and 17 sec.\n"
     ]
    }
   ],
   "source": [
    "main()"
   ]
  },
  {
   "cell_type": "code",
   "execution_count": 11,
   "metadata": {},
   "outputs": [
    {
     "data": {
      "image/png": "[encoded data removed]",
      "text/plain": [
       "<Figure size 576x360 with 1 Axes>"
      ]
     },
     "metadata": {},
     "output_type": "display_data"
    }
   ],
   "source": [
    "import seaborn as sns\n",
    "import matplotlib.pyplot as plt\n",
    "\n",
    "sns.set(color_codes=True)\n",
    "\n",
    "fig = plt.figure(figsize=(8, 5))\n",
    "sns.distplot(wait_times)\n",
    "plt.title(\"Customer wait times\")\n",
    "plt.show()"
   ]
  },
  {
   "cell_type": "code",
   "execution_count": null,
   "metadata": {},
   "outputs": [],
   "source": []
  }
 ],
 "metadata": {
  "kernelspec": {
   "display_name": "Python 3",
   "language": "python",
   "name": "python3"
  },
  "language_info": {
   "codemirror_mode": {
    "name": "ipython",
    "version": 3
   },
   "file_extension": ".py",
   "mimetype": "text/x-python",
   "name": "python",
   "nbconvert_exporter": "python",
   "pygments_lexer": "ipython3",
   "version": "3.7.7"
  },
  "toc": {
   "base_numbering": 1,
   "nav_menu": {},
   "number_sections": true,
   "sideBar": true,
   "skip_h1_title": false,
   "title_cell": "Table of Contents",
   "title_sidebar": "Contents",
   "toc_cell": false,
   "toc_position": {},
   "toc_section_display": true,
   "toc_window_display": false
  }
 },
 "nbformat": 4,
 "nbformat_minor": 4
}
