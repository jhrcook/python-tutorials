{
 "metadata": {
  "language_info": {
   "codemirror_mode": {
    "name": "ipython",
    "version": 3
   },
   "file_extension": ".py",
   "mimetype": "text/x-python",
   "name": "python",
   "nbconvert_exporter": "python",
   "pygments_lexer": "ipython3",
   "version": "3.9.1-final"
  },
  "orig_nbformat": 2,
  "kernelspec": {
   "name": "python3",
   "display_name": "Python 3",
   "language": "python"
  }
 },
 "nbformat": 4,
 "nbformat_minor": 2,
 "cells": [
  {
   "source": [
    "# *Real Python* - \"Data Management With Python, SQLite, and SQLAlchemy\"\n",
    "\n",
    "Joshua Cook\n",
    "\n",
    "2021-01-01\n",
    "\n",
    "This notebook is for my notes on the *Real Python* article on  [\"Data Management With Python, SQLite, and SQLAlchemy\"](https://realpython.com/python-sqlite-sqlalchemy).\n",
    "\n",
    "<img src=\"assets/Python-and-Sqlite-and-SqlAlchemy-Oh-My_Watermarked.jpg\" width=\"600\">"
   ],
   "cell_type": "markdown",
   "metadata": {}
  },
  {
   "cell_type": "code",
   "execution_count": 1,
   "metadata": {},
   "outputs": [
    {
     "output_type": "stream",
     "name": "stdout",
     "text": [
      "first_name,last_name,title,publisher\nIsaac,Asimov,Foundation,Random House\nPearl,Buck,The Good Earth,Random House\nPearl,Buck,The Good Earth,Simon & Schuster\nTom,Clancy,The Hunt For Red October,Berkley\nTom,Clancy,Patriot Games,Simon & Schuster\nStephen,King,It,Random House\nStephen,King,It,Penguin Random House\nStephen,King,Dead Zone,Random House\nStephen,King,The Shining,Penguin Random House\nJohn,Le Carre,\"Tinker, Tailor, Soldier, Spy: A George Smiley Novel\",Berkley\nAlex,Michaelides,The Silent Patient,Simon & Schuster\nCarol,Shaben,Into The Abyss,Simon & Schuster\n"
     ]
    }
   ],
   "source": [
    "!cat assets/real-python_sql-databases/author_book_publisher.csv"
   ]
  },
  {
   "source": [
    "Create a single database with 3 tables to separate the authors, books, and publishers.\n",
    "Each table is 2D made up of rows of **records** where each record consists of **fields** containing the data.\n",
    "Each field has a pre-defined types such as string, integers, floats, etc.\n",
    "Each record in the table has a unique **primary key**.\n",
    "The primary key is automatically made by the database as an incrementing integer, but if if field is unique across all records, it can be used as the primary key."
   ],
   "cell_type": "markdown",
   "metadata": {}
  },
  {
   "source": [
    "[SQLAlchemy](https://www.sqlalchemy.org/) is a database access tool kit for Python.\n",
    "It provides an **object-relational mapper (ORM) that acts as an interface between the SQLite database and Python.\n",
    "\n",
    "The first step is to create a **model**, a class that defines the data mapping between the database and Python objects returned as a result of a database query."
   ],
   "cell_type": "markdown",
   "metadata": {}
  },
  {
   "cell_type": "code",
   "execution_count": null,
   "metadata": {},
   "outputs": [],
   "source": []
  }
 ]
}
